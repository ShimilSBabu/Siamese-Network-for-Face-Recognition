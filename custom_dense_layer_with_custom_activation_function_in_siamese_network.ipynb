{
  "metadata": {
    "colab": {
      "provenance": [],
      "collapsed_sections": [],
      "include_colab_link": true
    },
    "kernelspec": {
      "name": "python3",
      "display_name": "Python 3",
      "language": "python"
    },
    "language_info": {
      "name": "python",
      "version": "3.7.12",
      "mimetype": "text/x-python",
      "codemirror_mode": {
        "name": "ipython",
        "version": 3
      },
      "pygments_lexer": "ipython3",
      "nbconvert_exporter": "python",
      "file_extension": ".py"
    },
    "accelerator": "GPU",
    "gpuClass": "standard"
  },
  "nbformat_minor": 0,
  "nbformat": 4,
  "cells": [
    {
      "cell_type": "markdown",
      "metadata": {
        "id": "view-in-github",
        "colab_type": "text"
      },
      "source": [
        "<a href=\"https://colab.research.google.com/github/ShimilSBabu/Siamese-Network-for-Face-Recognition/blob/main/custom_dense_layer_with_custom_activation_function_in_siamese_network.ipynb\" target=\"_parent\"><img src=\"https://colab.research.google.com/assets/colab-badge.svg\" alt=\"Open In Colab\"/></a>"
      ]
    },
    {
      "cell_type": "markdown",
      "source": [
        "# Importing Libs"
      ],
      "metadata": {
        "id": "wGMFGjmSkv0_"
      }
    },
    {
      "cell_type": "code",
      "source": [
        "from sklearn.datasets import fetch_olivetti_faces\n",
        "from numpy.random import RandomState\n",
        "import numpy as np\n",
        "import cv2\n",
        "from tensorflow.keras.models import Model\n",
        "from tensorflow.keras.layers import Layer, Conv2D, Dense, MaxPooling2D, Input, Flatten, Dropout, GlobalAveragePooling2D, Lambda\n",
        "import tensorflow as tf\n",
        "import tensorflow.keras.backend as k\n",
        "from tensorflow.keras.utils import plot_model\n",
        "import matplotlib.pyplot as plt\n",
        "from datetime import datetime"
      ],
      "metadata": {
        "id": "M7ovXXB4ku-P",
        "execution": {
          "iopub.status.busy": "2022-11-11T16:38:02.234292Z",
          "iopub.execute_input": "2022-11-11T16:38:02.234856Z",
          "iopub.status.idle": "2022-11-11T16:38:02.244272Z",
          "shell.execute_reply.started": "2022-11-11T16:38:02.234806Z",
          "shell.execute_reply": "2022-11-11T16:38:02.243407Z"
        },
        "trusted": true
      },
      "execution_count": 1,
      "outputs": []
    },
    {
      "cell_type": "markdown",
      "source": [
        "# Defining the Constants"
      ],
      "metadata": {
        "id": "scStCih_t8vz"
      }
    },
    {
      "cell_type": "code",
      "source": [
        "model_save_name = 'custom_loss_function_in_siamese_network'"
      ],
      "metadata": {
        "id": "dlIsqiSOt3fV",
        "execution": {
          "iopub.status.busy": "2022-11-11T16:38:02.292248Z",
          "iopub.execute_input": "2022-11-11T16:38:02.293611Z",
          "iopub.status.idle": "2022-11-11T16:38:02.299159Z",
          "shell.execute_reply.started": "2022-11-11T16:38:02.293534Z",
          "shell.execute_reply": "2022-11-11T16:38:02.298100Z"
        },
        "trusted": true
      },
      "execution_count": 2,
      "outputs": []
    },
    {
      "cell_type": "markdown",
      "source": [
        "# Importing the Dataset"
      ],
      "metadata": {
        "id": "bPC07kY-xS70"
      }
    },
    {
      "cell_type": "code",
      "source": [
        "rng = RandomState(0)\n",
        "# images_dataset, labels_dataset = fetch_olivetti_faces(return_X_y=True, shuffle=True, random_state=rng)\n",
        "data = fetch_olivetti_faces(return_X_y=False, shuffle=True, random_state=rng)\n",
        "images_dataset = data['images']\n",
        "labels_dataset = data['target']\n",
        "# n_samples, n_features = images_dataset.shape"
      ],
      "metadata": {
        "id": "aPECotrvxXAl",
        "execution": {
          "iopub.status.busy": "2022-11-11T16:38:02.332063Z",
          "iopub.execute_input": "2022-11-11T16:38:02.332925Z",
          "iopub.status.idle": "2022-11-11T16:38:22.409095Z",
          "shell.execute_reply.started": "2022-11-11T16:38:02.332879Z",
          "shell.execute_reply": "2022-11-11T16:38:22.406195Z"
        },
        "trusted": true,
        "colab": {
          "base_uri": "https://localhost:8080/"
        },
        "outputId": "667333cc-f15f-4aeb-e8d0-3e0ee8372d9f"
      },
      "execution_count": 3,
      "outputs": [
        {
          "output_type": "stream",
          "name": "stdout",
          "text": [
            "downloading Olivetti faces from https://ndownloader.figshare.com/files/5976027 to /root/scikit_learn_data\n"
          ]
        }
      ]
    },
    {
      "cell_type": "markdown",
      "source": [
        "# Functions"
      ],
      "metadata": {
        "id": "hM_PAD5mLU6e"
      }
    },
    {
      "cell_type": "markdown",
      "source": [
        "## Function to Display Images"
      ],
      "metadata": {
        "id": "sj8M0C21aiOa"
      }
    },
    {
      "cell_type": "code",
      "source": [
        "def display_images(image1, image2):\n",
        "  f, axarr = plt.subplots(1,2)\n",
        "  # plt.figure()\n",
        "  axarr[0].imshow(image1)\n",
        "  axarr[1].imshow(image2)\n",
        "  # plt.colorbar()\n",
        "  plt.grid(False)\n",
        "  plt.show()\n",
        "\n",
        "# def display_images(image):\n",
        "#   plt.figure()\n",
        "#   plt.imshow(image)\n",
        "#   plt.colorbar()\n",
        "#   plt.grid(False)\n",
        "#   plt.show()\n"
      ],
      "metadata": {
        "id": "bNCf2R7rarqE",
        "execution": {
          "iopub.status.busy": "2022-11-11T16:38:22.410236Z",
          "iopub.status.idle": "2022-11-11T16:38:22.410666Z",
          "shell.execute_reply.started": "2022-11-11T16:38:22.410455Z",
          "shell.execute_reply": "2022-11-11T16:38:22.410474Z"
        },
        "trusted": true
      },
      "execution_count": 4,
      "outputs": []
    },
    {
      "cell_type": "markdown",
      "source": [
        "## Function to Save the Model"
      ],
      "metadata": {
        "id": "h5PZcoy3uZRt"
      }
    },
    {
      "cell_type": "code",
      "source": [
        "def save_model(model_save_name):\n",
        "  current_time = str(datetime.now())[:16].replace(':', '_')\n",
        "  model.save(f'{model_save_name}_{current_time}.h5')"
      ],
      "metadata": {
        "id": "t7RzgYMSuYtt",
        "execution": {
          "iopub.status.busy": "2022-11-11T16:38:22.413560Z",
          "iopub.status.idle": "2022-11-11T16:38:22.414654Z",
          "shell.execute_reply.started": "2022-11-11T16:38:22.414393Z",
          "shell.execute_reply": "2022-11-11T16:38:22.414416Z"
        },
        "trusted": true
      },
      "execution_count": 5,
      "outputs": []
    },
    {
      "cell_type": "markdown",
      "source": [
        "## Function to Calculate Euclidian Distance"
      ],
      "metadata": {
        "id": "WuF0cMohkN4I"
      }
    },
    {
      "cell_type": "code",
      "source": [
        "def euclidean_distance(vectors):\n",
        "    (featA, featB) = vectors\n",
        "    sum_squared = k.sum(k.square(featA - featB), axis=1, keepdims=True)\n",
        "    return k.sqrt(k.maximum(sum_squared, k.epsilon()))"
      ],
      "metadata": {
        "id": "JOtjbk7JkTuv",
        "execution": {
          "iopub.status.busy": "2022-11-11T16:38:22.415962Z",
          "iopub.status.idle": "2022-11-11T16:38:22.416338Z",
          "shell.execute_reply.started": "2022-11-11T16:38:22.416158Z",
          "shell.execute_reply": "2022-11-11T16:38:22.416176Z"
        },
        "trusted": true
      },
      "execution_count": 6,
      "outputs": []
    },
    {
      "cell_type": "markdown",
      "source": [
        "## Function for Training Pairs Generation"
      ],
      "metadata": {
        "id": "NP2FkVT4yKgv"
      }
    },
    {
      "cell_type": "code",
      "source": [
        "def generate_train_image_pairs(images_dataset, labels_dataset):\n",
        "    unique_labels = np.unique(labels_dataset)\n",
        "    label_wise_indices = dict()\n",
        "    for label in unique_labels:\n",
        "        label_wise_indices.setdefault(label,\n",
        "                                      [index for index, curr_label in enumerate(labels_dataset) if\n",
        "                                       label == curr_label])\n",
        "    \n",
        "    pair_images = []\n",
        "    pair_labels = []\n",
        "    for index, image in enumerate(images_dataset):\n",
        "        pos_indices = label_wise_indices.get(labels_dataset[index])\n",
        "        pos_image = images_dataset[np.random.choice(pos_indices)]\n",
        "        \n",
        "        image = cv2.resize(image, dsize=(64, 64))\n",
        "        \n",
        "        pair_images.append((image, pos_image))\n",
        "        pair_labels.append(1)\n",
        "\n",
        "        neg_indices = np.where(labels_dataset != labels_dataset[index])\n",
        "        neg_image = images_dataset[np.random.choice(neg_indices[0])]\n",
        "        pair_images.append((image, neg_image))\n",
        "        pair_labels.append(0)\n",
        "    pair_labels = np.array(pair_labels)\n",
        "    pair_labels = pair_labels.astype('float32')  \n",
        "    return np.array(pair_images), np.array(pair_labels)"
      ],
      "metadata": {
        "id": "4gpUyj5EyIr1",
        "execution": {
          "iopub.status.busy": "2022-11-11T16:38:22.417502Z",
          "iopub.status.idle": "2022-11-11T16:38:22.417883Z",
          "shell.execute_reply.started": "2022-11-11T16:38:22.417706Z",
          "shell.execute_reply": "2022-11-11T16:38:22.417724Z"
        },
        "trusted": true
      },
      "execution_count": 7,
      "outputs": []
    },
    {
      "cell_type": "markdown",
      "source": [
        "## Function for Testing Pairs Generation"
      ],
      "metadata": {
        "id": "YF37t_83IOKT"
      }
    },
    {
      "cell_type": "code",
      "source": [
        "def generate_test_image_pairs(images_dataset, labels_dataset, image):\n",
        "    unique_labels = np.unique(labels_dataset)\n",
        "    label_wise_indices = dict()\n",
        "    for label in unique_labels:\n",
        "        label_wise_indices.setdefault(label,\n",
        "                                      [index for index, curr_label in enumerate(labels_dataset) if\n",
        "                                        label == curr_label])\n",
        "  \n",
        "    pair_images = []\n",
        "    pair_labels = []\n",
        "    for label, indices_for_label in label_wise_indices.items():\n",
        "        test_image = images_dataset[np.random.choice(indices_for_label)]\n",
        "        pair_images.append((image, test_image))\n",
        "        pair_labels.append(label)\n",
        "    pair_labels = np.array(pair_labels)\n",
        "    pair_labels = pair_labels.astype('float32')  \n",
        "    return np.array(pair_images), np.array(pair_labels)"
      ],
      "metadata": {
        "id": "_3dSFgszIMfc",
        "execution": {
          "iopub.status.busy": "2022-11-11T16:38:22.419609Z",
          "iopub.status.idle": "2022-11-11T16:38:22.419968Z",
          "shell.execute_reply.started": "2022-11-11T16:38:22.419793Z",
          "shell.execute_reply": "2022-11-11T16:38:22.419810Z"
        },
        "trusted": true
      },
      "execution_count": 8,
      "outputs": []
    },
    {
      "cell_type": "markdown",
      "source": [
        "## Custom Loss Function"
      ],
      "metadata": {
        "id": "PcD4OgqPFu1o"
      }
    },
    {
      "cell_type": "code",
      "source": [
        "def contrastive_loss_with_margin(margin = 1):\n",
        "  def contrastive_loss(y_true, y_pred):\n",
        "    square_pred = k.square(y_pred)\n",
        "    margin_square = k.square(k.maximum(margin - y_pred, 0))\n",
        "    return k.mean(y_true * square_pred + (1 - y_true) * margin_square)\n",
        "  return contrastive_loss"
      ],
      "metadata": {
        "id": "J51eMi4XF0BX",
        "execution": {
          "iopub.status.busy": "2022-11-11T16:38:22.421386Z",
          "iopub.status.idle": "2022-11-11T16:38:22.421870Z",
          "shell.execute_reply.started": "2022-11-11T16:38:22.421665Z",
          "shell.execute_reply": "2022-11-11T16:38:22.421685Z"
        },
        "trusted": true
      },
      "execution_count": 9,
      "outputs": []
    },
    {
      "cell_type": "markdown",
      "source": [
        "## Custom Dense Layer"
      ],
      "metadata": {
        "id": "aj3vUVXKkRij"
      }
    },
    {
      "cell_type": "code",
      "source": [
        "class custom_dense_layer(Layer):\n",
        "    \n",
        "    def __init__(self, units = 32, activation = None):\n",
        "        \"\"\"'units = 32' doesn't mean that every layer created using\n",
        "        this class will have only 32 neurons(units). This 32 is used only \n",
        "        when the user doesnot give number of neurons as argument while creating \n",
        "        the object of this class\"\"\"\n",
        "        \n",
        "        super(custom_dense_layer, self).__init__()\n",
        "        self.units = units\n",
        "        self.activation = tf.keras.activations.get(activation)\n",
        "        \n",
        "    def build(self, input_shape):\n",
        "        \"\"\"This function defines the state of the layer, i.e; weights\"\"\"\n",
        "        weight_initializer = tf.random_normal_initializer()\n",
        "        self.w = tf.Variable(name = 'kernel',\n",
        "                            initial_value = weight_initializer(shape = (input_shape[-1], self.units), dtype = 'float32'),\n",
        "                            trainable = True)\n",
        "        bias_initializer = tf.zeros_initializer()\n",
        "        self.b = tf.Variable(name = 'bias',\n",
        "                            initial_value = bias_initializer(shape = (self.units,), dtype = 'float32'),\n",
        "                            trainable = True)\n",
        "        \n",
        "    def call(self, inputs):\n",
        "        \"\"\"Defines the computation from inputs to outputs\"\"\"\n",
        "        \n",
        "        return self.activation(tf.matmul(inputs, self.w))"
      ],
      "metadata": {
        "execution": {
          "iopub.status.busy": "2022-11-11T16:38:22.423054Z",
          "iopub.status.idle": "2022-11-11T16:38:22.423428Z",
          "shell.execute_reply.started": "2022-11-11T16:38:22.423244Z",
          "shell.execute_reply": "2022-11-11T16:38:22.423263Z"
        },
        "trusted": true,
        "id": "MsIT2bD-kRij"
      },
      "execution_count": 50,
      "outputs": []
    },
    {
      "cell_type": "markdown",
      "source": [
        "## Function to Define the Model"
      ],
      "metadata": {
        "id": "cnVC4yzEj36Q"
      }
    },
    {
      "cell_type": "code",
      "source": [
        "def create_model():\n",
        "    inputs = Input((64, 64, 1))\n",
        "    x = Conv2D(96, (11, 11), padding=\"same\", activation=\"relu\")(inputs)\n",
        "    x = MaxPooling2D(pool_size=(2, 2))(x)\n",
        "    x = Dropout(0.3)(x)\n",
        "\n",
        "    x = Conv2D(256, (5, 5), padding=\"same\", activation=\"relu\")(x)\n",
        "    x = MaxPooling2D(pool_size=(2, 2))(x)\n",
        "    x = Dropout(0.3)(x)\n",
        "\n",
        "    x = Conv2D(384, (3, 3), padding=\"same\", activation=\"relu\")(x)\n",
        "    x = MaxPooling2D(pool_size=(2, 2))(x)\n",
        "    x = Dropout(0.3)(x)\n",
        "\n",
        "    pooledOutput = GlobalAveragePooling2D()(x)\n",
        "    # pooledOutput = Dense(1024)(pooledOutput)\n",
        "    # outputs = Dense(128)(pooledOutput)\n",
        "    \n",
        "    pooledOutput = custom_dense_layer(units = 1024)(pooledOutput)\n",
        "    outputs = custom_dense_layer(units = 128, activation = 'sigmoid')(pooledOutput)\n",
        "\n",
        "    model = Model(inputs, outputs)\n",
        "    return model"
      ],
      "metadata": {
        "id": "2jXyONkBiMQN",
        "execution": {
          "iopub.status.busy": "2022-11-11T16:38:22.424833Z",
          "iopub.status.idle": "2022-11-11T16:38:22.425220Z",
          "shell.execute_reply.started": "2022-11-11T16:38:22.425030Z",
          "shell.execute_reply": "2022-11-11T16:38:22.425049Z"
        },
        "trusted": true
      },
      "execution_count": 51,
      "outputs": []
    },
    {
      "cell_type": "markdown",
      "source": [
        "# Generating Training Image Pairs"
      ],
      "metadata": {
        "id": "i1fVmSC4vePW"
      }
    },
    {
      "cell_type": "code",
      "source": [
        "images_pair, labels_pair = generate_train_image_pairs(images_dataset, labels_dataset)"
      ],
      "metadata": {
        "id": "yb0t7H16b0P6",
        "execution": {
          "iopub.status.busy": "2022-11-11T16:38:22.426517Z",
          "iopub.status.idle": "2022-11-11T16:38:22.427115Z",
          "shell.execute_reply.started": "2022-11-11T16:38:22.426830Z",
          "shell.execute_reply": "2022-11-11T16:38:22.426858Z"
        },
        "trusted": true
      },
      "execution_count": 15,
      "outputs": []
    },
    {
      "cell_type": "markdown",
      "source": [
        "# Display Some Image Pairs"
      ],
      "metadata": {
        "id": "e9c9ZD7IbkLS"
      }
    },
    {
      "cell_type": "code",
      "source": [
        "image_pair_num = 3\n",
        "display_images(images_pair[image_pair_num][0], images_pair[image_pair_num][1])\n",
        "print(labels_pair[image_pair_num])"
      ],
      "metadata": {
        "colab": {
          "base_uri": "https://localhost:8080/",
          "height": 220
        },
        "id": "o4NLrYpGbjmS",
        "outputId": "d649f0e8-00d1-4db7-85f0-d72830df0974",
        "execution": {
          "iopub.status.busy": "2022-11-11T16:38:22.428418Z",
          "iopub.status.idle": "2022-11-11T16:38:22.429015Z",
          "shell.execute_reply.started": "2022-11-11T16:38:22.428699Z",
          "shell.execute_reply": "2022-11-11T16:38:22.428756Z"
        },
        "trusted": true
      },
      "execution_count": 16,
      "outputs": [
        {
          "output_type": "display_data",
          "data": {
            "text/plain": [
              "<Figure size 432x288 with 2 Axes>"
            ],
            "image/png": "[encoded data removed]"
          },
          "metadata": {
            "needs_background": "light"
          }
        },
        {
          "output_type": "stream",
          "name": "stdout",
          "text": [
            "0.0\n"
          ]
        }
      ]
    },
    {
      "cell_type": "markdown",
      "source": [
        "# Feature Extraction"
      ],
      "metadata": {
        "id": "uzNZDJFhj-HB"
      }
    },
    {
      "cell_type": "code",
      "source": [
        "feature_extractor = create_model()\n",
        "imgA = Input(shape=(64, 64, 1))\n",
        "imgB = Input(shape=(64, 64, 1))\n",
        "featA = feature_extractor(imgA)\n",
        "featB = feature_extractor(imgB)"
      ],
      "metadata": {
        "id": "_WZvFE_Gj-aw",
        "execution": {
          "iopub.status.busy": "2022-11-11T16:38:22.430923Z",
          "iopub.status.idle": "2022-11-11T16:38:22.431437Z",
          "shell.execute_reply.started": "2022-11-11T16:38:22.431167Z",
          "shell.execute_reply": "2022-11-11T16:38:22.431193Z"
        },
        "trusted": true
      },
      "execution_count": 52,
      "outputs": []
    },
    {
      "cell_type": "markdown",
      "source": [
        "# Generating the Model"
      ],
      "metadata": {
        "id": "D2JFpvpTK3j_"
      }
    },
    {
      "cell_type": "code",
      "source": [
        "distance = Lambda(euclidean_distance)([featA, featB])\n",
        "outputs = Dense(1, activation=\"sigmoid\")(distance)\n",
        "model = Model(inputs=[imgA, imgB], outputs=outputs)"
      ],
      "metadata": {
        "id": "_UziWepaKgaO",
        "execution": {
          "iopub.status.busy": "2022-11-11T16:38:22.433008Z",
          "iopub.status.idle": "2022-11-11T16:38:22.433508Z",
          "shell.execute_reply.started": "2022-11-11T16:38:22.433245Z",
          "shell.execute_reply": "2022-11-11T16:38:22.433270Z"
        },
        "trusted": true
      },
      "execution_count": 53,
      "outputs": []
    },
    {
      "cell_type": "markdown",
      "source": [
        "# Compiling the Model"
      ],
      "metadata": {
        "id": "k06mCVm7kZnn"
      }
    },
    {
      "cell_type": "code",
      "source": [
        "model.compile(loss = contrastive_loss_with_margin(margin = 1), optimizer=\"adam\", metrics=[\"accuracy\"])"
      ],
      "metadata": {
        "id": "zWbEYNs-kclw",
        "execution": {
          "iopub.status.busy": "2022-11-11T16:38:22.437468Z",
          "iopub.status.idle": "2022-11-11T16:38:22.437839Z",
          "shell.execute_reply.started": "2022-11-11T16:38:22.437663Z",
          "shell.execute_reply": "2022-11-11T16:38:22.437681Z"
        },
        "trusted": true
      },
      "execution_count": 54,
      "outputs": []
    },
    {
      "cell_type": "markdown",
      "source": [
        "# Plotting the Model"
      ],
      "metadata": {
        "id": "RX6cGTyWvKZ8"
      }
    },
    {
      "cell_type": "code",
      "source": [
        "plot_model(model, show_shapes=True, show_layer_names=True, to_file= f'{model_save_name}.png')"
      ],
      "metadata": {
        "id": "raP189KEELR-",
        "outputId": "f3a77ed3-07eb-46fa-b5a8-2b3d883e9669",
        "colab": {
          "base_uri": "https://localhost:8080/",
          "height": 422
        },
        "execution": {
          "iopub.status.busy": "2022-11-11T16:38:22.438747Z",
          "iopub.status.idle": "2022-11-11T16:38:22.439106Z",
          "shell.execute_reply.started": "2022-11-11T16:38:22.438917Z",
          "shell.execute_reply": "2022-11-11T16:38:22.438933Z"
        },
        "trusted": true
      },
      "execution_count": 55,
      "outputs": [
        {
          "output_type": "execute_result",
          "data": {
            "image/png": "[encoded data removed]",
            "text/plain": [
              "<IPython.core.display.Image object>"
            ]
          },
          "metadata": {},
          "execution_count": 55
        }
      ]
    },
    {
      "cell_type": "markdown",
      "source": [
        "# Plotting the Model (Simpler View)"
      ],
      "metadata": {
        "id": "fYsLHfUQvPAG"
      }
    },
    {
      "cell_type": "code",
      "source": [
        "plot_model(model)"
      ],
      "metadata": {
        "id": "k6gD3-K-BDaX",
        "outputId": "2ab3ce8b-658d-4b37-df13-ee9039897ed7",
        "colab": {
          "base_uri": "https://localhost:8080/",
          "height": 369
        },
        "execution": {
          "iopub.status.busy": "2022-11-11T16:38:22.440688Z",
          "iopub.status.idle": "2022-11-11T16:38:22.441093Z",
          "shell.execute_reply.started": "2022-11-11T16:38:22.440892Z",
          "shell.execute_reply": "2022-11-11T16:38:22.440911Z"
        },
        "trusted": true
      },
      "execution_count": 21,
      "outputs": [
        {
          "output_type": "execute_result",
          "data": {
            "image/png": "[encoded data removed]",
            "text/plain": [
              "<IPython.core.display.Image object>"
            ]
          },
          "metadata": {},
          "execution_count": 21
        }
      ]
    },
    {
      "cell_type": "markdown",
      "source": [
        "# Training the Model"
      ],
      "metadata": {
        "id": "iUWNGG4-voZT"
      }
    },
    {
      "cell_type": "code",
      "source": [
        "history = model.fit([images_pair[:, 0], images_pair[:, 1]], labels_pair[:],validation_split=0.1,batch_size=64,epochs=100)"
      ],
      "metadata": {
        "id": "4kZVbsdeyivH",
        "colab": {
          "base_uri": "https://localhost:8080/"
        },
        "outputId": "38494480-7b59-4739-8037-f33983f2f918",
        "execution": {
          "iopub.status.busy": "2022-11-11T16:38:22.442404Z",
          "iopub.status.idle": "2022-11-11T16:38:22.443042Z",
          "shell.execute_reply.started": "2022-11-11T16:38:22.442852Z",
          "shell.execute_reply": "2022-11-11T16:38:22.442872Z"
        },
        "trusted": true
      },
      "execution_count": 56,
      "outputs": [
        {
          "output_type": "stream",
          "name": "stdout",
          "text": [
            "Epoch 1/100\n"
          ]
        },
        {
          "output_type": "stream",
          "name": "stderr",
          "text": [
            "WARNING:tensorflow:Gradients do not exist for variables ['custom_dense_layer_4/bias:0', 'custom_dense_layer_5/bias:0'] when minimizing the loss. If you're using `model.compile()`, did you forget to provide a `loss`argument?\n",
            "WARNING:tensorflow:Gradients do not exist for variables ['custom_dense_layer_4/bias:0', 'custom_dense_layer_5/bias:0'] when minimizing the loss. If you're using `model.compile()`, did you forget to provide a `loss`argument?\n"
          ]
        },
        {
          "output_type": "stream",
          "name": "stdout",
          "text": [
            "12/12 [==============================] - 2s 115ms/step - loss: 0.2504 - accuracy: 0.5000 - val_loss: 0.2500 - val_accuracy: 0.5000\n",
            "Epoch 2/100\n",
            "12/12 [==============================] - 1s 93ms/step - loss: 0.2500 - accuracy: 0.5000 - val_loss: 0.2500 - val_accuracy: 0.5000\n",
            "Epoch 3/100\n",
            "12/12 [==============================] - 1s 93ms/step - loss: 0.2500 - accuracy: 0.5000 - val_loss: 0.2500 - val_accuracy: 0.5000\n",
            "Epoch 4/100\n",
            "12/12 [==============================] - 1s 93ms/step - loss: 0.2500 - accuracy: 0.5000 - val_loss: 0.2500 - val_accuracy: 0.5000\n",
            "Epoch 5/100\n",
            "12/12 [==============================] - 1s 92ms/step - loss: 0.2500 - accuracy: 0.5000 - val_loss: 0.2500 - val_accuracy: 0.5000\n",
            "Epoch 6/100\n",
            "12/12 [==============================] - 1s 92ms/step - loss: 0.2500 - accuracy: 0.5000 - val_loss: 0.2500 - val_accuracy: 0.5000\n",
            "Epoch 7/100\n",
            "12/12 [==============================] - 1s 92ms/step - loss: 0.2500 - accuracy: 0.5000 - val_loss: 0.2500 - val_accuracy: 0.5000\n",
            "Epoch 8/100\n",
            "12/12 [==============================] - 1s 92ms/step - loss: 0.2501 - accuracy: 0.5000 - val_loss: 0.2500 - val_accuracy: 0.5000\n",
            "Epoch 9/100\n",
            "12/12 [==============================] - 1s 93ms/step - loss: 0.2501 - accuracy: 0.5000 - val_loss: 0.2500 - val_accuracy: 0.5000\n",
            "Epoch 10/100\n",
            "12/12 [==============================] - 1s 93ms/step - loss: 0.2500 - accuracy: 0.5000 - val_loss: 0.2500 - val_accuracy: 0.5000\n",
            "Epoch 11/100\n",
            "12/12 [==============================] - 1s 91ms/step - loss: 0.2500 - accuracy: 0.5000 - val_loss: 0.2500 - val_accuracy: 0.5000\n",
            "Epoch 12/100\n",
            "12/12 [==============================] - 1s 92ms/step - loss: 0.2500 - accuracy: 0.5000 - val_loss: 0.2500 - val_accuracy: 0.5000\n",
            "Epoch 13/100\n",
            "12/12 [==============================] - 1s 94ms/step - loss: 0.2501 - accuracy: 0.5000 - val_loss: 0.2500 - val_accuracy: 0.5000\n",
            "Epoch 14/100\n",
            "12/12 [==============================] - 1s 92ms/step - loss: 0.2500 - accuracy: 0.4903 - val_loss: 0.2500 - val_accuracy: 0.5000\n",
            "Epoch 15/100\n",
            "12/12 [==============================] - 1s 92ms/step - loss: 0.2500 - accuracy: 0.5069 - val_loss: 0.2500 - val_accuracy: 0.5000\n",
            "Epoch 16/100\n",
            "12/12 [==============================] - 1s 94ms/step - loss: 0.2500 - accuracy: 0.5014 - val_loss: 0.2500 - val_accuracy: 0.5000\n",
            "Epoch 17/100\n",
            "12/12 [==============================] - 1s 92ms/step - loss: 0.2500 - accuracy: 0.4972 - val_loss: 0.2500 - val_accuracy: 0.5000\n",
            "Epoch 18/100\n",
            "12/12 [==============================] - 1s 92ms/step - loss: 0.2501 - accuracy: 0.4972 - val_loss: 0.2500 - val_accuracy: 0.5000\n",
            "Epoch 19/100\n",
            "12/12 [==============================] - 1s 92ms/step - loss: 0.2500 - accuracy: 0.5069 - val_loss: 0.2500 - val_accuracy: 0.5000\n",
            "Epoch 20/100\n",
            "12/12 [==============================] - 1s 92ms/step - loss: 0.2500 - accuracy: 0.5028 - val_loss: 0.2500 - val_accuracy: 0.5000\n",
            "Epoch 21/100\n",
            "12/12 [==============================] - 1s 92ms/step - loss: 0.2500 - accuracy: 0.4875 - val_loss: 0.2500 - val_accuracy: 0.5000\n",
            "Epoch 22/100\n",
            "12/12 [==============================] - 1s 92ms/step - loss: 0.2500 - accuracy: 0.5000 - val_loss: 0.2500 - val_accuracy: 0.5000\n",
            "Epoch 23/100\n",
            "12/12 [==============================] - 1s 102ms/step - loss: 0.2500 - accuracy: 0.4986 - val_loss: 0.2500 - val_accuracy: 0.5000\n",
            "Epoch 24/100\n",
            "12/12 [==============================] - 1s 100ms/step - loss: 0.2499 - accuracy: 0.4847 - val_loss: 0.2500 - val_accuracy: 0.5000\n",
            "Epoch 25/100\n",
            "12/12 [==============================] - 1s 98ms/step - loss: 0.2499 - accuracy: 0.4736 - val_loss: 0.2500 - val_accuracy: 0.5000\n",
            "Epoch 26/100\n",
            "12/12 [==============================] - 1s 93ms/step - loss: 0.2502 - accuracy: 0.4944 - val_loss: 0.2500 - val_accuracy: 0.5000\n",
            "Epoch 27/100\n",
            "12/12 [==============================] - 1s 93ms/step - loss: 0.2502 - accuracy: 0.5194 - val_loss: 0.2500 - val_accuracy: 0.5000\n",
            "Epoch 28/100\n",
            "12/12 [==============================] - 1s 93ms/step - loss: 0.2501 - accuracy: 0.5167 - val_loss: 0.2500 - val_accuracy: 0.5000\n",
            "Epoch 29/100\n",
            "12/12 [==============================] - 1s 93ms/step - loss: 0.2501 - accuracy: 0.5236 - val_loss: 0.2500 - val_accuracy: 0.5000\n",
            "Epoch 30/100\n",
            "12/12 [==============================] - 1s 94ms/step - loss: 0.2500 - accuracy: 0.5083 - val_loss: 0.2500 - val_accuracy: 0.5000\n",
            "Epoch 31/100\n",
            "12/12 [==============================] - 1s 93ms/step - loss: 0.2500 - accuracy: 0.4792 - val_loss: 0.2500 - val_accuracy: 0.5000\n",
            "Epoch 32/100\n",
            "12/12 [==============================] - 1s 93ms/step - loss: 0.2501 - accuracy: 0.5389 - val_loss: 0.2500 - val_accuracy: 0.5000\n",
            "Epoch 33/100\n",
            "12/12 [==============================] - 1s 94ms/step - loss: 0.2500 - accuracy: 0.5097 - val_loss: 0.2500 - val_accuracy: 0.5000\n",
            "Epoch 34/100\n",
            "12/12 [==============================] - 1s 93ms/step - loss: 0.2500 - accuracy: 0.4972 - val_loss: 0.2500 - val_accuracy: 0.5000\n",
            "Epoch 35/100\n",
            "12/12 [==============================] - 1s 95ms/step - loss: 0.2499 - accuracy: 0.4806 - val_loss: 0.2500 - val_accuracy: 0.5000\n",
            "Epoch 36/100\n",
            "12/12 [==============================] - 1s 93ms/step - loss: 0.2500 - accuracy: 0.5069 - val_loss: 0.2500 - val_accuracy: 0.5000\n",
            "Epoch 37/100\n",
            "12/12 [==============================] - 1s 93ms/step - loss: 0.2501 - accuracy: 0.5014 - val_loss: 0.2500 - val_accuracy: 0.5000\n",
            "Epoch 38/100\n",
            "12/12 [==============================] - 1s 93ms/step - loss: 0.2501 - accuracy: 0.4986 - val_loss: 0.2500 - val_accuracy: 0.5000\n",
            "Epoch 39/100\n",
            "12/12 [==============================] - 1s 93ms/step - loss: 0.2500 - accuracy: 0.5014 - val_loss: 0.2500 - val_accuracy: 0.5000\n",
            "Epoch 40/100\n",
            "12/12 [==============================] - 1s 92ms/step - loss: 0.2500 - accuracy: 0.4806 - val_loss: 0.2500 - val_accuracy: 0.5000\n",
            "Epoch 41/100\n",
            "12/12 [==============================] - 1s 94ms/step - loss: 0.2500 - accuracy: 0.5083 - val_loss: 0.2500 - val_accuracy: 0.5000\n",
            "Epoch 42/100\n",
            "12/12 [==============================] - 1s 93ms/step - loss: 0.2499 - accuracy: 0.5014 - val_loss: 0.2500 - val_accuracy: 0.5000\n",
            "Epoch 43/100\n",
            "12/12 [==============================] - 1s 94ms/step - loss: 0.2500 - accuracy: 0.4708 - val_loss: 0.2500 - val_accuracy: 0.5000\n",
            "Epoch 44/100\n",
            "12/12 [==============================] - 1s 92ms/step - loss: 0.2501 - accuracy: 0.5361 - val_loss: 0.2500 - val_accuracy: 0.5000\n",
            "Epoch 45/100\n",
            "12/12 [==============================] - 1s 92ms/step - loss: 0.2498 - accuracy: 0.4597 - val_loss: 0.2500 - val_accuracy: 0.5000\n",
            "Epoch 46/100\n",
            "12/12 [==============================] - 1s 92ms/step - loss: 0.2500 - accuracy: 0.4931 - val_loss: 0.2500 - val_accuracy: 0.5000\n",
            "Epoch 47/100\n",
            "12/12 [==============================] - 1s 92ms/step - loss: 0.2503 - accuracy: 0.5194 - val_loss: 0.2500 - val_accuracy: 0.5000\n",
            "Epoch 48/100\n",
            "12/12 [==============================] - 1s 94ms/step - loss: 0.2501 - accuracy: 0.5097 - val_loss: 0.2500 - val_accuracy: 0.5000\n",
            "Epoch 49/100\n",
            "12/12 [==============================] - 1s 93ms/step - loss: 0.2501 - accuracy: 0.4944 - val_loss: 0.2500 - val_accuracy: 0.5000\n",
            "Epoch 50/100\n",
            "12/12 [==============================] - 1s 92ms/step - loss: 0.2499 - accuracy: 0.5056 - val_loss: 0.2500 - val_accuracy: 0.5000\n",
            "Epoch 51/100\n",
            "12/12 [==============================] - 1s 92ms/step - loss: 0.2499 - accuracy: 0.4889 - val_loss: 0.2500 - val_accuracy: 0.5000\n",
            "Epoch 52/100\n",
            "12/12 [==============================] - 1s 92ms/step - loss: 0.2500 - accuracy: 0.5125 - val_loss: 0.2500 - val_accuracy: 0.5000\n",
            "Epoch 53/100\n",
            "12/12 [==============================] - 1s 92ms/step - loss: 0.2501 - accuracy: 0.5236 - val_loss: 0.2500 - val_accuracy: 0.5000\n",
            "Epoch 54/100\n",
            "12/12 [==============================] - 1s 91ms/step - loss: 0.2499 - accuracy: 0.4861 - val_loss: 0.2500 - val_accuracy: 0.5000\n",
            "Epoch 55/100\n",
            "12/12 [==============================] - 1s 91ms/step - loss: 0.2500 - accuracy: 0.4958 - val_loss: 0.2500 - val_accuracy: 0.5000\n",
            "Epoch 56/100\n",
            "12/12 [==============================] - 1s 92ms/step - loss: 0.2502 - accuracy: 0.5125 - val_loss: 0.2500 - val_accuracy: 0.5000\n",
            "Epoch 57/100\n",
            "12/12 [==============================] - 1s 92ms/step - loss: 0.2501 - accuracy: 0.5056 - val_loss: 0.2500 - val_accuracy: 0.5000\n",
            "Epoch 58/100\n",
            "12/12 [==============================] - 1s 94ms/step - loss: 0.2499 - accuracy: 0.4778 - val_loss: 0.2500 - val_accuracy: 0.5000\n",
            "Epoch 59/100\n",
            "12/12 [==============================] - 1s 91ms/step - loss: 0.2498 - accuracy: 0.4847 - val_loss: 0.2500 - val_accuracy: 0.5000\n",
            "Epoch 60/100\n",
            "12/12 [==============================] - 1s 91ms/step - loss: 0.2502 - accuracy: 0.5347 - val_loss: 0.2500 - val_accuracy: 0.5000\n",
            "Epoch 61/100\n",
            "12/12 [==============================] - 1s 91ms/step - loss: 0.2501 - accuracy: 0.5028 - val_loss: 0.2500 - val_accuracy: 0.5000\n",
            "Epoch 62/100\n",
            "12/12 [==============================] - 1s 92ms/step - loss: 0.2499 - accuracy: 0.4764 - val_loss: 0.2500 - val_accuracy: 0.5000\n",
            "Epoch 63/100\n",
            "12/12 [==============================] - 1s 91ms/step - loss: 0.2500 - accuracy: 0.4917 - val_loss: 0.2500 - val_accuracy: 0.5000\n",
            "Epoch 64/100\n",
            "12/12 [==============================] - 1s 92ms/step - loss: 0.2501 - accuracy: 0.5069 - val_loss: 0.2501 - val_accuracy: 0.5000\n",
            "Epoch 65/100\n",
            "12/12 [==============================] - 1s 93ms/step - loss: 0.2501 - accuracy: 0.5125 - val_loss: 0.2501 - val_accuracy: 0.5000\n",
            "Epoch 66/100\n",
            "12/12 [==============================] - 1s 91ms/step - loss: 0.2500 - accuracy: 0.5042 - val_loss: 0.2501 - val_accuracy: 0.5000\n",
            "Epoch 67/100\n",
            "12/12 [==============================] - 1s 91ms/step - loss: 0.2501 - accuracy: 0.5125 - val_loss: 0.2500 - val_accuracy: 0.5000\n",
            "Epoch 68/100\n",
            "12/12 [==============================] - 1s 92ms/step - loss: 0.2501 - accuracy: 0.5000 - val_loss: 0.2501 - val_accuracy: 0.5000\n",
            "Epoch 69/100\n",
            "12/12 [==============================] - 1s 92ms/step - loss: 0.2502 - accuracy: 0.4986 - val_loss: 0.2500 - val_accuracy: 0.5000\n",
            "Epoch 70/100\n",
            "12/12 [==============================] - 1s 91ms/step - loss: 0.2503 - accuracy: 0.5250 - val_loss: 0.2500 - val_accuracy: 0.5000\n",
            "Epoch 71/100\n",
            "12/12 [==============================] - 1s 92ms/step - loss: 0.2501 - accuracy: 0.5014 - val_loss: 0.2501 - val_accuracy: 0.5000\n",
            "Epoch 72/100\n",
            "12/12 [==============================] - 1s 92ms/step - loss: 0.2500 - accuracy: 0.4931 - val_loss: 0.2500 - val_accuracy: 0.5000\n",
            "Epoch 73/100\n",
            "12/12 [==============================] - 1s 91ms/step - loss: 0.2500 - accuracy: 0.5111 - val_loss: 0.2500 - val_accuracy: 0.5000\n",
            "Epoch 74/100\n",
            "12/12 [==============================] - 1s 91ms/step - loss: 0.2500 - accuracy: 0.5222 - val_loss: 0.2500 - val_accuracy: 0.5000\n",
            "Epoch 75/100\n",
            "12/12 [==============================] - 1s 92ms/step - loss: 0.2502 - accuracy: 0.4931 - val_loss: 0.2500 - val_accuracy: 0.5000\n",
            "Epoch 76/100\n",
            "12/12 [==============================] - 1s 92ms/step - loss: 0.2503 - accuracy: 0.4819 - val_loss: 0.2500 - val_accuracy: 0.5000\n",
            "Epoch 77/100\n",
            "12/12 [==============================] - 1s 91ms/step - loss: 0.2504 - accuracy: 0.5208 - val_loss: 0.2501 - val_accuracy: 0.5000\n",
            "Epoch 78/100\n",
            "12/12 [==============================] - 1s 91ms/step - loss: 0.2498 - accuracy: 0.4847 - val_loss: 0.2501 - val_accuracy: 0.5000\n",
            "Epoch 79/100\n",
            "12/12 [==============================] - 1s 91ms/step - loss: 0.2499 - accuracy: 0.4861 - val_loss: 0.2501 - val_accuracy: 0.5000\n",
            "Epoch 80/100\n",
            "12/12 [==============================] - 1s 92ms/step - loss: 0.2503 - accuracy: 0.5222 - val_loss: 0.2501 - val_accuracy: 0.5000\n",
            "Epoch 81/100\n",
            "12/12 [==============================] - 1s 92ms/step - loss: 0.2500 - accuracy: 0.5042 - val_loss: 0.2501 - val_accuracy: 0.5000\n",
            "Epoch 82/100\n",
            "12/12 [==============================] - 1s 92ms/step - loss: 0.2500 - accuracy: 0.5125 - val_loss: 0.2501 - val_accuracy: 0.5000\n",
            "Epoch 83/100\n",
            "12/12 [==============================] - 1s 91ms/step - loss: 0.2499 - accuracy: 0.4875 - val_loss: 0.2501 - val_accuracy: 0.5000\n",
            "Epoch 84/100\n",
            "12/12 [==============================] - 1s 91ms/step - loss: 0.2499 - accuracy: 0.4833 - val_loss: 0.2501 - val_accuracy: 0.5000\n",
            "Epoch 85/100\n",
            "12/12 [==============================] - 1s 91ms/step - loss: 0.2501 - accuracy: 0.5014 - val_loss: 0.2501 - val_accuracy: 0.5000\n",
            "Epoch 86/100\n",
            "12/12 [==============================] - 1s 91ms/step - loss: 0.2502 - accuracy: 0.5125 - val_loss: 0.2501 - val_accuracy: 0.5000\n",
            "Epoch 87/100\n",
            "12/12 [==============================] - 1s 93ms/step - loss: 0.2500 - accuracy: 0.4958 - val_loss: 0.2501 - val_accuracy: 0.5000\n",
            "Epoch 88/100\n",
            "12/12 [==============================] - 1s 93ms/step - loss: 0.2500 - accuracy: 0.5069 - val_loss: 0.2501 - val_accuracy: 0.5000\n",
            "Epoch 89/100\n",
            "12/12 [==============================] - 1s 91ms/step - loss: 0.2499 - accuracy: 0.5000 - val_loss: 0.2501 - val_accuracy: 0.5000\n",
            "Epoch 90/100\n",
            "12/12 [==============================] - 1s 91ms/step - loss: 0.2500 - accuracy: 0.4917 - val_loss: 0.2501 - val_accuracy: 0.5000\n",
            "Epoch 91/100\n",
            "12/12 [==============================] - 1s 92ms/step - loss: 0.2497 - accuracy: 0.4819 - val_loss: 0.2501 - val_accuracy: 0.5000\n",
            "Epoch 92/100\n",
            "12/12 [==============================] - 1s 93ms/step - loss: 0.2500 - accuracy: 0.5069 - val_loss: 0.2501 - val_accuracy: 0.5000\n",
            "Epoch 93/100\n",
            "12/12 [==============================] - 1s 91ms/step - loss: 0.2498 - accuracy: 0.4931 - val_loss: 0.2501 - val_accuracy: 0.5000\n",
            "Epoch 94/100\n",
            "12/12 [==============================] - 1s 92ms/step - loss: 0.2503 - accuracy: 0.5167 - val_loss: 0.2501 - val_accuracy: 0.5000\n",
            "Epoch 95/100\n",
            "12/12 [==============================] - 1s 91ms/step - loss: 0.2499 - accuracy: 0.5056 - val_loss: 0.2501 - val_accuracy: 0.5000\n",
            "Epoch 96/100\n",
            "12/12 [==============================] - 1s 92ms/step - loss: 0.2504 - accuracy: 0.5111 - val_loss: 0.2501 - val_accuracy: 0.5000\n",
            "Epoch 97/100\n",
            "12/12 [==============================] - 1s 92ms/step - loss: 0.2502 - accuracy: 0.5208 - val_loss: 0.2501 - val_accuracy: 0.5000\n",
            "Epoch 98/100\n",
            "12/12 [==============================] - 1s 91ms/step - loss: 0.2500 - accuracy: 0.4972 - val_loss: 0.2501 - val_accuracy: 0.5000\n",
            "Epoch 99/100\n",
            "12/12 [==============================] - 1s 91ms/step - loss: 0.2500 - accuracy: 0.5056 - val_loss: 0.2501 - val_accuracy: 0.5000\n",
            "Epoch 100/100\n",
            "12/12 [==============================] - 1s 91ms/step - loss: 0.2500 - accuracy: 0.4889 - val_loss: 0.2501 - val_accuracy: 0.5000\n"
          ]
        }
      ]
    },
    {
      "cell_type": "markdown",
      "source": [
        "# Saving the Model"
      ],
      "metadata": {
        "id": "wFwyxD1qprwO"
      }
    },
    {
      "cell_type": "code",
      "source": [
        "save_model(model_save_name)"
      ],
      "metadata": {
        "id": "fzBLdutVq10H",
        "execution": {
          "iopub.status.busy": "2022-11-11T16:38:22.444224Z",
          "iopub.status.idle": "2022-11-11T16:38:22.444819Z",
          "shell.execute_reply.started": "2022-11-11T16:38:22.444629Z",
          "shell.execute_reply": "2022-11-11T16:38:22.444649Z"
        },
        "trusted": true
      },
      "execution_count": 23,
      "outputs": []
    },
    {
      "cell_type": "markdown",
      "source": [
        "# Prediction"
      ],
      "metadata": {
        "id": "6WMTLdILJO6l"
      }
    },
    {
      "cell_type": "code",
      "source": [
        "image = images_dataset[92] # a random image as test image\n",
        "test_image_pairs, test_label_pairs = generate_test_image_pairs(images_dataset, labels_dataset, image) # produce an array of test image pairs and test label pairs\n",
        "\n",
        "# for each pair in the test image pair, predict the similarity between the images\n",
        "for index, pair in enumerate(test_image_pairs):\n",
        "    pair_image1 = np.expand_dims(pair[0], axis=-1)\n",
        "    pair_image1 = np.expand_dims(pair_image1, axis=0)\n",
        "    pair_image2 = np.expand_dims(pair[1], axis=-1)\n",
        "    pair_image2 = np.expand_dims(pair_image2, axis=0)\n",
        "    prediction = model.predict([pair_image1, pair_image2])[0][0]\n",
        "    display_images(pair[0], pair[1])\n",
        "    print(prediction,'\\n'*3)"
      ],
      "metadata": {
        "id": "brcAeykNJL9c",
        "execution": {
          "iopub.status.busy": "2022-11-11T16:38:22.446600Z",
          "iopub.status.idle": "2022-11-11T16:38:22.447120Z",
          "shell.execute_reply.started": "2022-11-11T16:38:22.446853Z",
          "shell.execute_reply": "2022-11-11T16:38:22.446878Z"
        },
        "trusted": true
      },
      "execution_count": null,
      "outputs": []
    },
    {
      "cell_type": "markdown",
      "source": [
        "Credits :- Girija Shankar Behera\n",
        "\n",
        "https://medium.com/wicds/face-recognition-using-siamese-networks-84d6f2e54ea4"
      ],
      "metadata": {
        "id": "OsaAwHT7u9tr"
      }
    }
  ]
}